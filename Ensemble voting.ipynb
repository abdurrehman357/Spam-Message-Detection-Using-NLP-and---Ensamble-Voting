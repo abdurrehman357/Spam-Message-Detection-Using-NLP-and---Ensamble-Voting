{
 "cells": [
  {
   "cell_type": "code",
   "execution_count": 26,
   "id": "c6f93d80",
   "metadata": {},
   "outputs": [
    {
     "name": "stdout",
     "output_type": "stream",
     "text": [
      "Ensemble Accuracy: 0.9480286738351255\n"
     ]
    }
   ],
   "source": [
    "import pandas as pd\n",
    "import numpy as np\n",
    "from sklearn.ensemble import VotingClassifier\n",
    "from sklearn.tree import DecisionTreeClassifier\n",
    "from sklearn.svm import SVC\n",
    "from sklearn.linear_model import LogisticRegression\n",
    "from sklearn.datasets import make_classification\n",
    "from sklearn.model_selection import train_test_split\n",
    "from sklearn.metrics import accuracy_score\n",
    "from sklearn.ensemble import GradientBoostingClassifier\n",
    "from sklearn.ensemble import RandomForestClassifier\n",
    "from sklearn.naive_bayes import MultinomialNB\n",
    "\n",
    "# Step 1: Create the base models\n",
    "model1 = GradientBoostingClassifier()  # GBoost\n",
    "model2 = LogisticRegression()  # Logistic Regression\n",
    "model3 = RandomForestClassifier()  # RF\n",
    "model4 = SVC()  # SVC\n",
    "\n",
    "\n",
    "# Step 2: Create the voting ensemble\n",
    "ensemble = VotingClassifier(estimators=[\n",
    "    ('GBoost', model1),\n",
    "    ('Logistic Regression', model2),\n",
    "    ('RF', model3),\n",
    "    ('SVC', model4)\n",
    "], voting='hard')\n",
    "\n",
    "# Step 3: Generate a synthetic dataset for demonstration purposes\n",
    "sms = pd.read_csv('C:/Users/Admin/Downloads/spam/Pro/spamm_data.csv', encoding='latin-1')\n",
    "\n",
    "\n",
    "# Step 4: Split the dataset into training and testing sets\n",
    "X_train, X_test, y_train, y_test = train_test_split(X, y, test_size=0.2, random_state=42)\n",
    "\n",
    "# Step 5: Train the base models\n",
    "model1.fit(X_train, y_train)\n",
    "model2.fit(X_train, y_train)\n",
    "model3.fit(X_train, y_train)\n",
    "model4.fit(X_train, y_train)\n",
    "\n",
    "# Step 6: Make predictions with the ensemble\n",
    "ensemble.fit(X_train, y_train)\n",
    "ensemble_predictions = ensemble.predict(X_test)\n",
    "\n",
    "# Step 7: Evaluate the ensemble\n",
    "ensemble_accuracy = accuracy_score(y_test, ensemble_predictions)\n",
    "print(\"Ensemble Accuracy:\", ensemble_accuracy)\n"
   ]
  },
  {
   "cell_type": "code",
   "execution_count": null,
   "id": "36c020d3",
   "metadata": {},
   "outputs": [],
   "source": []
  }
 ],
 "metadata": {
  "kernelspec": {
   "display_name": "Python 3 (ipykernel)",
   "language": "python",
   "name": "python3"
  },
  "language_info": {
   "codemirror_mode": {
    "name": "ipython",
    "version": 3
   },
   "file_extension": ".py",
   "mimetype": "text/x-python",
   "name": "python",
   "nbconvert_exporter": "python",
   "pygments_lexer": "ipython3",
   "version": "3.9.13"
  }
 },
 "nbformat": 4,
 "nbformat_minor": 5
}
